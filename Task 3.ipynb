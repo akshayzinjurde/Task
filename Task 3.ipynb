{
 "cells": [
  {
   "cell_type": "code",
   "execution_count": null,
   "id": "4ca5449c",
   "metadata": {},
   "outputs": [],
   "source": []
  },
  {
   "cell_type": "code",
   "execution_count": 4,
   "id": "ce40b7d8",
   "metadata": {},
   "outputs": [
    {
     "name": "stdout",
     "output_type": "stream",
     "text": [
      "Enter a number:56661\n",
      "It is odd number\n"
     ]
    }
   ],
   "source": [
    "## Odd and Even\n",
    "\n",
    "a = int(input(\"Enter a number:\"))\n",
    "if a%2==0:\n",
    "    print(\"It is even number\")\n",
    "else:\n",
    "    print(\"It is odd number\")"
   ]
  },
  {
   "cell_type": "code",
   "execution_count": 7,
   "id": "9bd4949b",
   "metadata": {},
   "outputs": [
    {
     "name": "stdout",
     "output_type": "stream",
     "text": [
      "Enter a colour :red\n",
      "Enter a plural noun :sky\n",
      "Enter a celebrity :Kat\n",
      "Roses are red\n",
      "sky is blue\n",
      "I love Kat\n"
     ]
    }
   ],
   "source": [
    "## Mad Libs\n",
    "\n",
    "Colour=input(\"Enter a colour :\")\n",
    "Plural_noun=input(\"Enter a plural noun :\")\n",
    "Celebrity=input(\"Enter a celebrity :\")\n",
    "\n",
    "print(\"Roses are\",Colour)\n",
    "print(Plural_noun,\"is blue\")\n",
    "print(\"I love\",Celebrity)"
   ]
  },
  {
   "cell_type": "code",
   "execution_count": 8,
   "id": "edc2bf52",
   "metadata": {},
   "outputs": [
    {
     "name": "stdout",
     "output_type": "stream",
     "text": [
      "Enter Your Email: zinjurde17@gmail.com\n",
      "Your user name is  zinjurde17  and your domain is  gmail.com\n"
     ]
    }
   ],
   "source": [
    "##Email Slicer\n",
    "\n",
    "email = input(\"Enter Your Email: \")\n",
    "email=email.strip()\n",
    "slicer_index=email.index(\"@\")\n",
    "username = email[:slicer_index]\n",
    "domain_name = email[slicer_index+1:]\n",
    "print(\"Your user name is \",username,\" and your domain is \",domain_name)"
   ]
  },
  {
   "cell_type": "code",
   "execution_count": 9,
   "id": "13a03936",
   "metadata": {},
   "outputs": [
    {
     "name": "stdout",
     "output_type": "stream",
     "text": [
      "alarm time in hour:2\n",
      "alarm time in minute:51\n",
      "am or pm:pm\n",
      "Wakeup\n",
      "excited\n"
     ]
    }
   ],
   "source": [
    "## Alarm clock\n",
    "\n",
    "import datetime\n",
    "\n",
    "alarmHour=int(input(\"alarm time in hour:\"))\n",
    "alarmMinute=int(input(\"alarm time in minute:\"))\n",
    "ampm=str(input(\"am or pm:\"))\n",
    "\n",
    "if(ampm == \"pm\"):\n",
    "    alarmHour=alarmHour+12\n",
    "    \n",
    "while (1==1):\n",
    "    if (alarmHour == datetime.datetime.now().hour and\n",
    "        alarmMinute == datetime.datetime.now().minute):\n",
    "        print(\"Wakeup\")\n",
    "        break\n",
    "    \n",
    "print(\"excited\")\n"
   ]
  },
  {
   "cell_type": "code",
   "execution_count": 30,
   "id": "38032792",
   "metadata": {},
   "outputs": [
    {
     "name": "stdout",
     "output_type": "stream",
     "text": [
      "akshay\n",
      "123456789\n",
      "ABC\n",
      "Mayur\n",
      "124785963\n",
      "SDF\n"
     ]
    }
   ],
   "source": [
    "## Contact book\n",
    "\n",
    "import datetime\n",
    "\n",
    "class Contact:\n",
    "    def __init__ (self, name, contact_number, company_name):\n",
    "        self.name = name\n",
    "        self.contact_number = contact_number\n",
    "        self.company_name = company_name\n",
    "\n",
    "Contact_1=Contact(\"akshay\",123456789,\"ABC\")\n",
    "Contact_2=Contact(\"Mayur\",124785963,\"SDF\")\n",
    "\n",
    "print(Contact_1.name)\n",
    "print(Contact_1.contact_number)\n",
    "print(Contact_1.company_name)\n",
    "    \n",
    "print(Contact_2.name)\n",
    "print(Contact_2.contact_number)\n",
    "print(Contact_2.company_name)"
   ]
  }
 ],
 "metadata": {
  "kernelspec": {
   "display_name": "Python 3 (ipykernel)",
   "language": "python",
   "name": "python3"
  },
  "language_info": {
   "codemirror_mode": {
    "name": "ipython",
    "version": 3
   },
   "file_extension": ".py",
   "mimetype": "text/x-python",
   "name": "python",
   "nbconvert_exporter": "python",
   "pygments_lexer": "ipython3",
   "version": "3.9.12"
  }
 },
 "nbformat": 4,
 "nbformat_minor": 5
}
