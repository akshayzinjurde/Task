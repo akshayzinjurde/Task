{
 "cells": [
  {
   "cell_type": "code",
   "execution_count": null,
   "metadata": {},
   "outputs": [],
   "source": [
    "## Number Guessing\n",
    "\n",
    "import random\n",
    "n = random.randint(1, 99)\n",
    "guess = int(input(\"Enter an integer from 1 to 99: \"))\n",
    "while n != (\"guess\"):\n",
    "    print\n",
    "    if guess < n:\n",
    "        print(\"guess is low\")\n",
    "        guess = int(input(\"Enter an integer from 1 to 99: \"))\n",
    "    elif guess > n:\n",
    "        print(\"guess is high\")\n",
    "        guess = int(input(\"Enter an integer from 1 to 99: \"))\n",
    "    else:\n",
    "        print(\"you guessed it!\")\n",
    "        break\n",
    "    print"
   ]
  },
  {
   "cell_type": "code",
   "execution_count": null,
   "metadata": {},
   "outputs": [],
   "source": [
    "## Dice roll generator\n",
    "\n",
    "min = 1\n",
    "max = 6\n",
    "\n",
    "roll_again = \"yes\"\n",
    "\n",
    "while roll_again == \"yes\" or roll_again == \"y\":\n",
    "    print(\"Rolling the dices:\")\n",
    "    print(\"The values are:\")\n",
    "    print(random.randint(min, max))\n",
    "    print(random.randint(min, max))\n",
    "    \n",
    "    roll_again = raw_input(\"Roll the dices again?\")"
   ]
  },
  {
   "cell_type": "code",
   "execution_count": null,
   "metadata": {},
   "outputs": [],
   "source": [
    "## temperature converter\n",
    "\n",
    "temp_celsius =int(input(\"enter temp in celsius:\"))\n",
    "fahrenheit = (temp_celsius * 1.8) + 32\n",
    "kelvin = (temp_celsius)+273.15\n",
    "print(fahrenheit)\n",
    "print(kelvin)"
   ]
  },
  {
   "cell_type": "code",
   "execution_count": null,
   "metadata": {},
   "outputs": [],
   "source": [
    "## Binary Search \n",
    "\n",
    "\n",
    "def binarySearch(array, x, low, high):\n",
    "\n",
    "    while low <= high:\n",
    "\n",
    "        mid = low + (high - low)//2\n",
    "\n",
    "        if array[mid] == x:\n",
    "            return mid\n",
    "\n",
    "        elif array[mid] < x:\n",
    "            low = mid + 1\n",
    "\n",
    "        else:\n",
    "            high = mid - 1\n",
    "\n",
    "    return -1\n",
    "\n",
    "\n",
    "array = [3, 4, 5, 6, 7, 8, 9]\n",
    "x = 4\n",
    "\n",
    "result = binarySearch(array, x, 0, len(array)-1)\n",
    "\n",
    "if result != -1:\n",
    "    print(\"Element is present at index \" + str(result))\n",
    "else:\n",
    "    print(\"Not found\")"
   ]
  },
  {
   "cell_type": "code",
   "execution_count": null,
   "metadata": {},
   "outputs": [],
   "source": [
    "## countdown\n",
    "\n",
    "import time\n",
    "\n",
    "def countdown(time_sec):\n",
    "    while time_sec:\n",
    "        mins, secs = divmod(time_sec, 60)\n",
    "        timeformat = '{:02d}:{:02d}'.format(mins, secs)\n",
    "        print(timeformat, end='\\r')\n",
    "        time.sleep(1)\n",
    "        time_sec -= 1\n",
    "\n",
    "    print(\"stop\")\n",
    "\n",
    "countdown(10)"
   ]
  },
  {
   "cell_type": "code",
   "execution_count": null,
   "metadata": {},
   "outputs": [],
   "source": [
    "## measurement converter\n",
    "\n",
    "kilometers = float(input(\"Enter value in kilometers: \"))\n",
    "conv_fac = 0.621371\n",
    "miles = kilometers * conv_fac\n",
    "meter = kilometers * 1000\n",
    "centimeters = kilometers * 100000\n",
    "print(miles,\"miles\")\n",
    "print(meter,\"meters\")\n",
    "print(centimeters,\"cm\")"
   ]
  },
  {
   "cell_type": "code",
   "execution_count": null,
   "metadata": {},
   "outputs": [],
   "source": [
    "## Rock Paper Scissors\n",
    "\n",
    "import random\n",
    "\n",
    "user_action=input(\"enter a choice(Rock,Paper,Scissors):\")\n",
    "possible_action=[\"Rock\",\"Paper\",\"Scissors\"]\n",
    "computer_action=random.choice(possible_action)\n",
    "print(f\"/nYou chose:{user_action},computer chose:{computer_action}./n\")\n",
    "\n",
    "if user_action == computer_action:\n",
    "    print(f\"both players selected(user_action) it is Tie!\")\n",
    "elif user_action == \"Rock\":\n",
    "    if computer_action == \"scissors\":\n",
    "        print(\"Rock smashes scissors! You win\")\n",
    "    else:\n",
    "        print(\"Paper cover Rocks! You loose:\")\n",
    "elif user_action == \"Paper\":\n",
    "    if computer_action == \"Rock\":\n",
    "        print(\"Paper cover Rocks! You win\")\n",
    "    else:\n",
    "        print(\"Scissor cut Papers! You loose\")\n",
    "elif user_action == \"Scissors\":\n",
    "    if computer_action == \"Paper\":\n",
    "        print(\"Scissor cut Papers! You win\")\n",
    "    else:\n",
    "        print(\"Rock smashes scissors! You loose\")\n",
    "   "
   ]
  }
 ],
 "metadata": {
  "kernelspec": {
   "display_name": "Python 3 (ipykernel)",
   "language": "python",
   "name": "python3"
  },
  "language_info": {
   "codemirror_mode": {
    "name": "ipython",
    "version": 3
   },
   "file_extension": ".py",
   "mimetype": "text/x-python",
   "name": "python",
   "nbconvert_exporter": "python",
   "pygments_lexer": "ipython3",
   "version": "3.9.12"
  }
 },
 "nbformat": 4,
 "nbformat_minor": 4
}
